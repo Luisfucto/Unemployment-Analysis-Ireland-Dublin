{
 "cells": [
  {
   "cell_type": "markdown",
   "metadata": {},
   "source": [
    "# Assignment 1 part 3\n"
   ]
  },
  {
   "cell_type": "code",
   "execution_count": 92,
   "metadata": {},
   "outputs": [],
   "source": [
    "# For this part  I am getting data from https://data.gov.ie/dataset/dublin-economic-monitor, from Dublin Region Economic \n",
    "# Indicators to monitor economic development in the Dublin City Region"
   ]
  },
  {
   "cell_type": "code",
   "execution_count": 93,
   "metadata": {},
   "outputs": [],
   "source": [
    "# Firs of all I upload the file in a data frame:\n",
    "\n",
    "Unemployment <- read.table('indicator-1-unemployment.csv', sep=\",\", header = TRUE, fill = T, na.strings = c(\"NA\"))"
   ]
  },
  {
   "cell_type": "code",
   "execution_count": 94,
   "metadata": {},
   "outputs": [
    {
     "data": {
      "text/html": [
       "<table>\n",
       "<caption>A data.frame: 3 × 8</caption>\n",
       "<thead>\n",
       "\t<tr><th></th><th scope=col>Quarter</th><th scope=col>National.Unemployment.Rate.SA....</th><th scope=col>Dublin.Unemployed.SA..000.</th><th scope=col>Dublin.Unemployment.Rate.SA....</th><th scope=col>Dublin.Employed.SA..000.</th><th scope=col>QoQ.Dublin.Employed</th><th scope=col>YoY..Dublin.Employed</th><th scope=col>X.YoY.Dublin.Unemployed</th></tr>\n",
       "\t<tr><th></th><th scope=col>&lt;chr&gt;</th><th scope=col>&lt;chr&gt;</th><th scope=col>&lt;dbl&gt;</th><th scope=col>&lt;chr&gt;</th><th scope=col>&lt;dbl&gt;</th><th scope=col>&lt;dbl&gt;</th><th scope=col>&lt;dbl&gt;</th><th scope=col>&lt;chr&gt;</th></tr>\n",
       "</thead>\n",
       "<tbody>\n",
       "\t<tr><th scope=row>1</th><td>Q1 98</td><td>9.0%</td><td>43.4</td><td>8.1%</td><td>496.6</td><td>NA</td><td>NA</td><td></td></tr>\n",
       "\t<tr><th scope=row>2</th><td>Q2 98</td><td>8.0%</td><td>39.5</td><td>7.2%</td><td>499.4</td><td>NA</td><td>NA</td><td></td></tr>\n",
       "\t<tr><th scope=row>3</th><td>Q3 98</td><td>7.4%</td><td>37.4</td><td>7.0%</td><td>507.8</td><td>NA</td><td>NA</td><td></td></tr>\n",
       "</tbody>\n",
       "</table>\n"
      ],
      "text/latex": [
       "A data.frame: 3 × 8\n",
       "\\begin{tabular}{r|llllllll}\n",
       "  & Quarter & National.Unemployment.Rate.SA.... & Dublin.Unemployed.SA..000. & Dublin.Unemployment.Rate.SA.... & Dublin.Employed.SA..000. & QoQ.Dublin.Employed & YoY..Dublin.Employed & X.YoY.Dublin.Unemployed\\\\\n",
       "  & <chr> & <chr> & <dbl> & <chr> & <dbl> & <dbl> & <dbl> & <chr>\\\\\n",
       "\\hline\n",
       "\t1 & Q1 98 & 9.0\\% & 43.4 & 8.1\\% & 496.6 & NA & NA & \\\\\n",
       "\t2 & Q2 98 & 8.0\\% & 39.5 & 7.2\\% & 499.4 & NA & NA & \\\\\n",
       "\t3 & Q3 98 & 7.4\\% & 37.4 & 7.0\\% & 507.8 & NA & NA & \\\\\n",
       "\\end{tabular}\n"
      ],
      "text/markdown": [
       "\n",
       "A data.frame: 3 × 8\n",
       "\n",
       "| <!--/--> | Quarter &lt;chr&gt; | National.Unemployment.Rate.SA.... &lt;chr&gt; | Dublin.Unemployed.SA..000. &lt;dbl&gt; | Dublin.Unemployment.Rate.SA.... &lt;chr&gt; | Dublin.Employed.SA..000. &lt;dbl&gt; | QoQ.Dublin.Employed &lt;dbl&gt; | YoY..Dublin.Employed &lt;dbl&gt; | X.YoY.Dublin.Unemployed &lt;chr&gt; |\n",
       "|---|---|---|---|---|---|---|---|---|\n",
       "| 1 | Q1 98 | 9.0% | 43.4 | 8.1% | 496.6 | NA | NA | <!----> |\n",
       "| 2 | Q2 98 | 8.0% | 39.5 | 7.2% | 499.4 | NA | NA | <!----> |\n",
       "| 3 | Q3 98 | 7.4% | 37.4 | 7.0% | 507.8 | NA | NA | <!----> |\n",
       "\n"
      ],
      "text/plain": [
       "  Quarter National.Unemployment.Rate.SA.... Dublin.Unemployed.SA..000.\n",
       "1 Q1 98   9.0%                              43.4                      \n",
       "2 Q2 98   8.0%                              39.5                      \n",
       "3 Q3 98   7.4%                              37.4                      \n",
       "  Dublin.Unemployment.Rate.SA.... Dublin.Employed.SA..000. QoQ.Dublin.Employed\n",
       "1 8.1%                            496.6                    NA                 \n",
       "2 7.2%                            499.4                    NA                 \n",
       "3 7.0%                            507.8                    NA                 \n",
       "  YoY..Dublin.Employed X.YoY.Dublin.Unemployed\n",
       "1 NA                                          \n",
       "2 NA                                          \n",
       "3 NA                                          "
      ]
     },
     "metadata": {},
     "output_type": "display_data"
    }
   ],
   "source": [
    "# This dataset is given information on unemployment in Ireland from 1998 to the second quarter of 2020. The main variables\n",
    "# that will be useful for the inspection are the unemployment rate in Ireland, the Dublin unemployment rate, \n",
    "# the number of unemployed people in Dublin and the number of employees IN Dublin as well. I do not consider the rest of\n",
    "# the columns relevant for the analysis.\n",
    "\n",
    "\n",
    "# Lets check it:\n",
    "head(Unemployment, 3)"
   ]
  },
  {
   "cell_type": "code",
   "execution_count": 95,
   "metadata": {},
   "outputs": [],
   "source": [
    "# Here I change the columns names in order to work easier with the dataframe:\n",
    "\n",
    "names(Unemployment)[names(Unemployment) == 'National.Unemployment.Rate.SA....'] <- 'National_rate'\n",
    "names(Unemployment)[names(Unemployment) == 'Dublin.Unemployed.SA..000.'] <- 'Dublin_unemployed'\n",
    "names(Unemployment)[names(Unemployment) == 'Dublin.Unemployment.Rate.SA....'] <- 'Dublin__rate'\n",
    "names(Unemployment)[names(Unemployment) == 'Dublin.Employed.SA..000.'] <- 'Dublin__employed'"
   ]
  },
  {
   "cell_type": "code",
   "execution_count": 96,
   "metadata": {},
   "outputs": [
    {
     "data": {
      "text/html": [
       "<table>\n",
       "<caption>A data.frame: 3 × 8</caption>\n",
       "<thead>\n",
       "\t<tr><th></th><th scope=col>Quarter</th><th scope=col>National_rate</th><th scope=col>Dublin_unemployed</th><th scope=col>Dublin__rate</th><th scope=col>Dublin__employed</th><th scope=col>QoQ.Dublin.Employed</th><th scope=col>YoY..Dublin.Employed</th><th scope=col>X.YoY.Dublin.Unemployed</th></tr>\n",
       "\t<tr><th></th><th scope=col>&lt;chr&gt;</th><th scope=col>&lt;chr&gt;</th><th scope=col>&lt;dbl&gt;</th><th scope=col>&lt;chr&gt;</th><th scope=col>&lt;dbl&gt;</th><th scope=col>&lt;dbl&gt;</th><th scope=col>&lt;dbl&gt;</th><th scope=col>&lt;chr&gt;</th></tr>\n",
       "</thead>\n",
       "<tbody>\n",
       "\t<tr><th scope=row>1</th><td>Q1 98</td><td>9.0%</td><td>43.4</td><td>8.1%</td><td>496.6</td><td>NA</td><td>NA</td><td></td></tr>\n",
       "\t<tr><th scope=row>2</th><td>Q2 98</td><td>8.0%</td><td>39.5</td><td>7.2%</td><td>499.4</td><td>NA</td><td>NA</td><td></td></tr>\n",
       "\t<tr><th scope=row>3</th><td>Q3 98</td><td>7.4%</td><td>37.4</td><td>7.0%</td><td>507.8</td><td>NA</td><td>NA</td><td></td></tr>\n",
       "</tbody>\n",
       "</table>\n"
      ],
      "text/latex": [
       "A data.frame: 3 × 8\n",
       "\\begin{tabular}{r|llllllll}\n",
       "  & Quarter & National\\_rate & Dublin\\_unemployed & Dublin\\_\\_rate & Dublin\\_\\_employed & QoQ.Dublin.Employed & YoY..Dublin.Employed & X.YoY.Dublin.Unemployed\\\\\n",
       "  & <chr> & <chr> & <dbl> & <chr> & <dbl> & <dbl> & <dbl> & <chr>\\\\\n",
       "\\hline\n",
       "\t1 & Q1 98 & 9.0\\% & 43.4 & 8.1\\% & 496.6 & NA & NA & \\\\\n",
       "\t2 & Q2 98 & 8.0\\% & 39.5 & 7.2\\% & 499.4 & NA & NA & \\\\\n",
       "\t3 & Q3 98 & 7.4\\% & 37.4 & 7.0\\% & 507.8 & NA & NA & \\\\\n",
       "\\end{tabular}\n"
      ],
      "text/markdown": [
       "\n",
       "A data.frame: 3 × 8\n",
       "\n",
       "| <!--/--> | Quarter &lt;chr&gt; | National_rate &lt;chr&gt; | Dublin_unemployed &lt;dbl&gt; | Dublin__rate &lt;chr&gt; | Dublin__employed &lt;dbl&gt; | QoQ.Dublin.Employed &lt;dbl&gt; | YoY..Dublin.Employed &lt;dbl&gt; | X.YoY.Dublin.Unemployed &lt;chr&gt; |\n",
       "|---|---|---|---|---|---|---|---|---|\n",
       "| 1 | Q1 98 | 9.0% | 43.4 | 8.1% | 496.6 | NA | NA | <!----> |\n",
       "| 2 | Q2 98 | 8.0% | 39.5 | 7.2% | 499.4 | NA | NA | <!----> |\n",
       "| 3 | Q3 98 | 7.4% | 37.4 | 7.0% | 507.8 | NA | NA | <!----> |\n",
       "\n"
      ],
      "text/plain": [
       "  Quarter National_rate Dublin_unemployed Dublin__rate Dublin__employed\n",
       "1 Q1 98   9.0%          43.4              8.1%         496.6           \n",
       "2 Q2 98   8.0%          39.5              7.2%         499.4           \n",
       "3 Q3 98   7.4%          37.4              7.0%         507.8           \n",
       "  QoQ.Dublin.Employed YoY..Dublin.Employed X.YoY.Dublin.Unemployed\n",
       "1 NA                  NA                                          \n",
       "2 NA                  NA                                          \n",
       "3 NA                  NA                                          "
      ]
     },
     "metadata": {},
     "output_type": "display_data"
    }
   ],
   "source": [
    "# Lets check it:\n",
    "\n",
    "head(Unemployment, 3)"
   ]
  },
  {
   "cell_type": "code",
   "execution_count": 97,
   "metadata": {},
   "outputs": [
    {
     "data": {
      "text/html": [
       "<table>\n",
       "<caption>A tibble: 0 × 4</caption>\n",
       "<thead>\n",
       "\t<tr><th scope=col>row</th><th scope=col>col</th><th scope=col>expected</th><th scope=col>actual</th></tr>\n",
       "\t<tr><th scope=col>&lt;int&gt;</th><th scope=col>&lt;int&gt;</th><th scope=col>&lt;chr&gt;</th><th scope=col>&lt;chr&gt;</th></tr>\n",
       "</thead>\n",
       "<tbody>\n",
       "</tbody>\n",
       "</table>\n"
      ],
      "text/latex": [
       "A tibble: 0 × 4\n",
       "\\begin{tabular}{llll}\n",
       " row & col & expected & actual\\\\\n",
       " <int> & <int> & <chr> & <chr>\\\\\n",
       "\\hline\n",
       "\\end{tabular}\n"
      ],
      "text/markdown": [
       "\n",
       "A tibble: 0 × 4\n",
       "\n",
       "| row &lt;int&gt; | col &lt;int&gt; | expected &lt;chr&gt; | actual &lt;chr&gt; |\n",
       "|---|---|---|---|\n",
       "\n"
      ],
      "text/plain": [
       "     row col expected actual"
      ]
     },
     "metadata": {},
     "output_type": "display_data"
    },
    {
     "data": {
      "text/html": [
       "170"
      ],
      "text/latex": [
       "170"
      ],
      "text/markdown": [
       "170"
      ],
      "text/plain": [
       "[1] 170"
      ]
     },
     "metadata": {},
     "output_type": "display_data"
    },
    {
     "data": {
      "text/html": [
       "8"
      ],
      "text/latex": [
       "8"
      ],
      "text/markdown": [
       "8"
      ],
      "text/plain": [
       "[1] 8"
      ]
     },
     "metadata": {},
     "output_type": "display_data"
    },
    {
     "data": {
      "text/html": [
       "<table>\n",
       "<caption>A data.frame: 6 × 8</caption>\n",
       "<thead>\n",
       "\t<tr><th></th><th scope=col>Quarter</th><th scope=col>National_rate</th><th scope=col>Dublin_unemployed</th><th scope=col>Dublin__rate</th><th scope=col>Dublin__employed</th><th scope=col>QoQ.Dublin.Employed</th><th scope=col>YoY..Dublin.Employed</th><th scope=col>X.YoY.Dublin.Unemployed</th></tr>\n",
       "\t<tr><th></th><th scope=col>&lt;chr&gt;</th><th scope=col>&lt;chr&gt;</th><th scope=col>&lt;dbl&gt;</th><th scope=col>&lt;chr&gt;</th><th scope=col>&lt;dbl&gt;</th><th scope=col>&lt;dbl&gt;</th><th scope=col>&lt;dbl&gt;</th><th scope=col>&lt;chr&gt;</th></tr>\n",
       "</thead>\n",
       "<tbody>\n",
       "\t<tr><th scope=row>165</th><td></td><td></td><td>NA</td><td></td><td>NA</td><td>NA</td><td>NA</td><td></td></tr>\n",
       "\t<tr><th scope=row>166</th><td></td><td></td><td>NA</td><td></td><td>NA</td><td>NA</td><td>NA</td><td></td></tr>\n",
       "\t<tr><th scope=row>167</th><td></td><td></td><td>NA</td><td></td><td>NA</td><td>NA</td><td>NA</td><td></td></tr>\n",
       "\t<tr><th scope=row>168</th><td></td><td></td><td>NA</td><td></td><td>NA</td><td>NA</td><td>NA</td><td></td></tr>\n",
       "\t<tr><th scope=row>169</th><td></td><td></td><td>NA</td><td></td><td>NA</td><td>NA</td><td>NA</td><td></td></tr>\n",
       "\t<tr><th scope=row>170</th><td></td><td></td><td>NA</td><td></td><td>NA</td><td>NA</td><td>NA</td><td></td></tr>\n",
       "</tbody>\n",
       "</table>\n"
      ],
      "text/latex": [
       "A data.frame: 6 × 8\n",
       "\\begin{tabular}{r|llllllll}\n",
       "  & Quarter & National\\_rate & Dublin\\_unemployed & Dublin\\_\\_rate & Dublin\\_\\_employed & QoQ.Dublin.Employed & YoY..Dublin.Employed & X.YoY.Dublin.Unemployed\\\\\n",
       "  & <chr> & <chr> & <dbl> & <chr> & <dbl> & <dbl> & <dbl> & <chr>\\\\\n",
       "\\hline\n",
       "\t165 &  &  & NA &  & NA & NA & NA & \\\\\n",
       "\t166 &  &  & NA &  & NA & NA & NA & \\\\\n",
       "\t167 &  &  & NA &  & NA & NA & NA & \\\\\n",
       "\t168 &  &  & NA &  & NA & NA & NA & \\\\\n",
       "\t169 &  &  & NA &  & NA & NA & NA & \\\\\n",
       "\t170 &  &  & NA &  & NA & NA & NA & \\\\\n",
       "\\end{tabular}\n"
      ],
      "text/markdown": [
       "\n",
       "A data.frame: 6 × 8\n",
       "\n",
       "| <!--/--> | Quarter &lt;chr&gt; | National_rate &lt;chr&gt; | Dublin_unemployed &lt;dbl&gt; | Dublin__rate &lt;chr&gt; | Dublin__employed &lt;dbl&gt; | QoQ.Dublin.Employed &lt;dbl&gt; | YoY..Dublin.Employed &lt;dbl&gt; | X.YoY.Dublin.Unemployed &lt;chr&gt; |\n",
       "|---|---|---|---|---|---|---|---|---|\n",
       "| 165 | <!----> | <!----> | NA | <!----> | NA | NA | NA | <!----> |\n",
       "| 166 | <!----> | <!----> | NA | <!----> | NA | NA | NA | <!----> |\n",
       "| 167 | <!----> | <!----> | NA | <!----> | NA | NA | NA | <!----> |\n",
       "| 168 | <!----> | <!----> | NA | <!----> | NA | NA | NA | <!----> |\n",
       "| 169 | <!----> | <!----> | NA | <!----> | NA | NA | NA | <!----> |\n",
       "| 170 | <!----> | <!----> | NA | <!----> | NA | NA | NA | <!----> |\n",
       "\n"
      ],
      "text/plain": [
       "    Quarter National_rate Dublin_unemployed Dublin__rate Dublin__employed\n",
       "165                       NA                             NA              \n",
       "166                       NA                             NA              \n",
       "167                       NA                             NA              \n",
       "168                       NA                             NA              \n",
       "169                       NA                             NA              \n",
       "170                       NA                             NA              \n",
       "    QoQ.Dublin.Employed YoY..Dublin.Employed X.YoY.Dublin.Unemployed\n",
       "165 NA                  NA                                          \n",
       "166 NA                  NA                                          \n",
       "167 NA                  NA                                          \n",
       "168 NA                  NA                                          \n",
       "169 NA                  NA                                          \n",
       "170 NA                  NA                                          "
      ]
     },
     "metadata": {},
     "output_type": "display_data"
    }
   ],
   "source": [
    "# Lets cary out the basic checks:\n",
    "# I call the readr package to do it:\n",
    "\n",
    "library(readr)\n",
    "\n",
    "problems(Unemployment)\n",
    "nrow(Unemployment)\n",
    "ncol(Unemployment)\n",
    "tail(Unemployment)"
   ]
  },
  {
   "cell_type": "code",
   "execution_count": 98,
   "metadata": {},
   "outputs": [],
   "source": [
    "# Lets chak for the missing values na:\n",
    "\n",
    "missing <- is.na(Unemployment)"
   ]
  },
  {
   "cell_type": "code",
   "execution_count": 99,
   "metadata": {},
   "outputs": [],
   "source": [
    "# Here count by columns:\n",
    "\n",
    "count <- colSums(missing)"
   ]
  },
  {
   "cell_type": "code",
   "execution_count": 100,
   "metadata": {},
   "outputs": [
    {
     "data": {
      "text/html": [
       "<style>\n",
       ".dl-inline {width: auto; margin:0; padding: 0}\n",
       ".dl-inline>dt, .dl-inline>dd {float: none; width: auto; display: inline-block}\n",
       ".dl-inline>dt::after {content: \":\\0020\"; padding-right: .5ex}\n",
       ".dl-inline>dt:not(:first-of-type) {padding-left: .5ex}\n",
       "</style><dl class=dl-inline><dt>Dublin_unemployed</dt><dd>80</dd><dt>Dublin__employed</dt><dd>80</dd><dt>QoQ.Dublin.Employed</dt><dd>86</dd><dt>YoY..Dublin.Employed</dt><dd>86</dd></dl>\n"
      ],
      "text/latex": [
       "\\begin{description*}\n",
       "\\item[Dublin\\textbackslash{}\\_unemployed] 80\n",
       "\\item[Dublin\\textbackslash{}\\_\\textbackslash{}\\_employed] 80\n",
       "\\item[QoQ.Dublin.Employed] 86\n",
       "\\item[YoY..Dublin.Employed] 86\n",
       "\\end{description*}\n"
      ],
      "text/markdown": [
       "Dublin_unemployed\n",
       ":   80Dublin__employed\n",
       ":   80QoQ.Dublin.Employed\n",
       ":   86YoY..Dublin.Employed\n",
       ":   86\n",
       "\n"
      ],
      "text/plain": [
       "   Dublin_unemployed     Dublin__employed  QoQ.Dublin.Employed \n",
       "                  80                   80                   86 \n",
       "YoY..Dublin.Employed \n",
       "                  86 "
      ]
     },
     "metadata": {},
     "output_type": "display_data"
    }
   ],
   "source": [
    "# Hee lets figure out whats columns have some of them:\n",
    "\n",
    "count[count>0]"
   ]
  },
  {
   "cell_type": "code",
   "execution_count": 101,
   "metadata": {},
   "outputs": [
    {
     "name": "stdout",
     "output_type": "stream",
     "text": [
      "[1] \"The average number of unemployed people in Dublin per year from the first quarter of 1998 to the second \\nquarter of 2020 is 45.000 people\"\n",
      "[1] \"And The average number of employed people in Dublin per year for the same\\nperiod is 598.000 people\"\n"
     ]
    }
   ],
   "source": [
    "# Here I am going to calculate the avrage Number of people unemployed in Dublin, and  the Dublin avarage Number of \n",
    "# people employed in Dublin, getting the corresponding columns:\n",
    "\n",
    "# Here I add the argument na.rm = TRUE to exclude from the calculation the cases given as lost:\n",
    "\n",
    "Avg_Dunlin_Unemployed <- mean(Unemployment$Dublin_unemployed, na.rm=TRUE)\n",
    "\n",
    "# Same in here for Employed:\n",
    "\n",
    "Avg_Dunlin_Employed <- mean(Unemployment$Dublin__employed, na.rm=TRUE)\n",
    "\n",
    "# Let´s check it. Using \"round\" to aproximate the figure:\n",
    "\n",
    "print(paste0(\"The average number of unemployed people in Dublin per year from the first quarter of 1998 to the second \n",
    "quarter of 2020 is \", round(Avg_Dunlin_Unemployed),\".000 people\"))\n",
    "print(paste0(\"And The average number of employed people in Dublin per year for the same\n",
    "period is \", round(Avg_Dunlin_Employed),\".000 people\"))"
   ]
  },
  {
   "cell_type": "code",
   "execution_count": 102,
   "metadata": {},
   "outputs": [
    {
     "name": "stdout",
     "output_type": "stream",
     "text": [
      "[1] \"The average rate of unemployed people in Ireland from the first quarter of 1998 to the second quarter n/\\nof 2020 is 8%. \"\n",
      "[1] \"The average rate of unemployed people in Dublin for the same period is 7%. \"\n"
     ]
    }
   ],
   "source": [
    "# Now, I am going to calculate the average unemployment rate in Ireland and In Dublin:\n",
    "\n",
    "# First I calculate the Ireland rate, gettin the coresponding column:\n",
    "\n",
    "National_rate <- Unemployment$National_rate\n",
    "\n",
    "# Using the as.numeric sunticon to convert it in order to be able to operate with them:\n",
    "\n",
    "National_rate_num <- as.numeric(gsub(\"%\", \"\", National_rate))# Using gsub to remove the characters \n",
    "\n",
    "# Now I calculate the average:\n",
    "\n",
    "Avg_National_rate <- mean(National_rate_num, na.rm=TRUE)\n",
    "\n",
    "# Secondly, the Dublin rate with the same process:\n",
    "\n",
    "Dublin_rate <- Unemployment$Dublin__rate\n",
    "Dublin_rate_num <- as.numeric(gsub(\"%\", \"\", Dublin_rate))\n",
    "Avg_Dublin_rate <- mean(Dublin_rate_num, na.rm=TRUE)\n",
    "\n",
    "\n",
    "# Lets check it:\n",
    "\n",
    "print(paste0(\"The average rate of unemployed people in Ireland from the first quarter of 1998 to the second quarter n/\n",
    "of 2020 is \",round(Avg_National_rate),\"%. \"))\n",
    "print(paste0(\"The average rate of unemployed people in Dublin for the same period is \",round(Avg_Dublin_rate),\"%. \"))"
   ]
  },
  {
   "cell_type": "code",
   "execution_count": 103,
   "metadata": {},
   "outputs": [
    {
     "name": "stdout",
     "output_type": "stream",
     "text": [
      "[1] \"The max unemployment rate in Ireland from 1998 to 2020 was 16% and the min n/\\nrate was 4%, the range was 12%, and according to the mean for this n/\\nnational unemployment rate of 8% the standard deviation is the 4%.\"\n"
     ]
    }
   ],
   "source": [
    "# Here I am alculating the max, min and range of the rate of unemployment in Ireland (1998-2020):\n",
    "\n",
    "# Here I calculate max and min:\n",
    "\n",
    "max_range_National_rate <- max(National_rate_num,na.rm=TRUE)\n",
    "min_range_National_rate <- min(National_rate_num,na.rm=TRUE)\n",
    "\n",
    "# Here I calculate the range:\n",
    "\n",
    "range_National_rate <- max_range_National_rate - min_range_National_rate\n",
    "\n",
    "# Here I calculate the standard deviation:\n",
    "\n",
    "Std_National_rate <- sd(National_rate_num,na.rm=TRUE)\n",
    "\n",
    "# Let´s check the result:\n",
    "\n",
    "print(paste0(\"The max unemployment rate in Ireland from 1998 to 2020 was \",max_range_National_rate,\"% and the min n/\n",
    "rate was \",min_range_National_rate,\"%, the range was \",range_National_rate,\"%, and according to the mean for this n/\n",
    "national unemployment rate of \",round(Avg_National_rate),\"% the standard deviation is the \",round(Std_National_rate),\"%.\"))"
   ]
  },
  {
   "cell_type": "code",
   "execution_count": 104,
   "metadata": {},
   "outputs": [
    {
     "name": "stdout",
     "output_type": "stream",
     "text": [
      "[1] \"The max uemployment rate in Ireland of 16% corresponds to Q1 12 what means the first quarter of 2012\"\n",
      "[1] \"The min uemployment rate in Ireland of 8% corresponds to Q1 12 what means the second quarter of 1998\"\n"
     ]
    }
   ],
   "source": [
    "# Here I calculate the quarters corresponding to max and min unemployment rate in Ireland:\n",
    "\n",
    "max_quarter <- Unemployment$Quarter[Unemployment$National_rate == \"16.0%\"]\n",
    "min_quarter <- Unemployment$Quarter[Unemployment$National_rate == \"4.0%\"]\n",
    "\n",
    "# Lets check:\n",
    "\n",
    "print(paste0(\"The max uemployment rate in Ireland of 16% corresponds to \",max_quarter,\" what means the first quarter of 2012\"))\n",
    "print(paste0(\"The min uemployment rate in Ireland of 8% corresponds to \",max_quarter,\" what means the second quarter of 1998\"))"
   ]
  },
  {
   "cell_type": "code",
   "execution_count": 105,
   "metadata": {},
   "outputs": [
    {
     "name": "stdout",
     "output_type": "stream",
     "text": [
      "[1] \"The most popular unemployment rate in Ieland from 1998-2020 is 4.7%, and in  Dublin is 4.8%.\"\n"
     ]
    }
   ],
   "source": [
    "#Here I calculate the most repeated unemployment rate in Ieland and in Dublinfrom 1998-2020\n",
    "\n",
    "# Hee I use \"na.omit\" to omit the nas values:\n",
    "\n",
    "National_rate_nona <- na.omit(National_rate_num)\n",
    "Dublin_rate_nona <- na.omit(Dublin_rate_num)\n",
    "\n",
    "# Using this function to calculate the most commun value, what statistically is the mode:\n",
    "\n",
    "getmode <- function(v)\n",
    "{\n",
    "uniqv <- unique(v) \n",
    "uniqv [ which.max(tabulate( match (v, uniqv )))]\n",
    "}\n",
    "\n",
    "# applying the function:\n",
    "\n",
    "Ireland_popular_rate <- getmode(National_rate_nona)\n",
    "Dublin_popular_rate <- getmode(Dublin_rate_nona)\n",
    "\n",
    "# # Lets check:\n",
    "\n",
    "print(paste0(\"The most popular unemployment rate in Ieland from 1998-2020 is \",Ireland_popular_rate,\"%, and in  Dublin is \",Dublin_popular_rate,\"%.\"))"
   ]
  },
  {
   "cell_type": "code",
   "execution_count": 106,
   "metadata": {},
   "outputs": [
    {
     "data": {
      "text/html": [
       "<style>\n",
       ".list-inline {list-style: none; margin:0; padding: 0}\n",
       ".list-inline>li {display: inline-block}\n",
       ".list-inline>li:not(:last-child)::after {content: \"\\00b7\"; padding: 0 .5ex}\n",
       "</style>\n",
       "<ol class=list-inline><li> 98</li><li> 98</li><li> 98</li><li> 98</li><li> 99</li><li> 99</li><li> 99</li><li> 99</li><li> 00</li><li> 00</li><li> 00</li><li> 00</li><li> 01</li><li> 01</li><li> 01</li><li> 01</li><li> 02</li><li> 02</li><li> 02</li><li> 02</li><li> 03</li><li> 03</li><li> 03</li><li> 03</li><li> 04</li><li> 04</li><li> 04</li><li> 04</li><li> 05</li><li> 05</li><li> 05</li><li> 05</li><li> 06</li><li> 06</li><li> 06</li><li> 06</li><li> 07</li><li> 07</li><li> 07</li><li> 07</li><li> 08</li><li> 08</li><li> 08</li><li> 08</li><li> 09</li><li> 09</li><li> 09</li><li> 09</li><li> 10</li><li> 10</li><li> 10</li><li> 10</li><li> 11</li><li> 11</li><li> 11</li><li> 11</li><li> 12</li><li> 12</li><li> 12</li><li> 12</li><li> 13</li><li> 13</li><li> 13</li><li> 13</li><li> 14</li><li> 14</li><li> 14</li><li> 14</li><li> 15</li><li> 15</li><li> 15</li><li> 15</li><li> 16</li><li> 16</li><li> 16</li><li> 16</li><li> 17</li><li> 17</li><li> 17</li><li> 17</li><li> 18</li><li> 18</li><li> 18</li><li> 18</li><li> 19</li><li> 19</li><li> 19</li><li> 19</li><li> 20</li><li> 20</li><li></li><li></li><li></li><li></li><li></li><li></li><li></li><li></li><li></li><li></li><li></li><li></li><li></li><li></li><li></li><li></li><li></li><li></li><li></li><li></li><li></li><li></li><li></li><li></li><li></li><li></li><li></li><li></li><li></li><li></li><li></li><li></li><li></li><li></li><li></li><li></li><li></li><li></li><li></li><li></li><li></li><li></li><li></li><li></li><li></li><li></li><li></li><li></li><li></li><li></li><li></li><li></li><li></li><li></li><li></li><li></li><li></li><li></li><li></li><li></li><li></li><li></li><li></li><li></li><li></li><li></li><li></li><li></li><li></li><li></li><li></li><li></li><li></li><li></li><li></li><li></li><li></li><li></li><li></li><li></li></ol>\n",
       "\n",
       "<details>\n",
       "\t<summary style=display:list-item;cursor:pointer>\n",
       "\t\t<strong>Levels</strong>:\n",
       "\t</summary>\n",
       "\t<style>\n",
       "\t.list-inline {list-style: none; margin:0; padding: 0}\n",
       "\t.list-inline>li {display: inline-block}\n",
       "\t.list-inline>li:not(:last-child)::after {content: \"\\00b7\"; padding: 0 .5ex}\n",
       "\t</style>\n",
       "\t<ol class=list-inline><li>''</li><li>' 00'</li><li>' 01'</li><li>' 02'</li><li>' 03'</li><li>' 04'</li><li>' 05'</li><li>' 06'</li><li>' 07'</li><li>' 08'</li><li>' 09'</li><li>' 10'</li><li>' 11'</li><li>' 12'</li><li>' 13'</li><li>' 14'</li><li>' 15'</li><li>' 16'</li><li>' 17'</li><li>' 18'</li><li>' 19'</li><li>' 20'</li><li>' 98'</li><li>' 99'</li></ol>\n",
       "</details>"
      ],
      "text/latex": [
       "\\begin{enumerate*}\n",
       "\\item  98\n",
       "\\item  98\n",
       "\\item  98\n",
       "\\item  98\n",
       "\\item  99\n",
       "\\item  99\n",
       "\\item  99\n",
       "\\item  99\n",
       "\\item  00\n",
       "\\item  00\n",
       "\\item  00\n",
       "\\item  00\n",
       "\\item  01\n",
       "\\item  01\n",
       "\\item  01\n",
       "\\item  01\n",
       "\\item  02\n",
       "\\item  02\n",
       "\\item  02\n",
       "\\item  02\n",
       "\\item  03\n",
       "\\item  03\n",
       "\\item  03\n",
       "\\item  03\n",
       "\\item  04\n",
       "\\item  04\n",
       "\\item  04\n",
       "\\item  04\n",
       "\\item  05\n",
       "\\item  05\n",
       "\\item  05\n",
       "\\item  05\n",
       "\\item  06\n",
       "\\item  06\n",
       "\\item  06\n",
       "\\item  06\n",
       "\\item  07\n",
       "\\item  07\n",
       "\\item  07\n",
       "\\item  07\n",
       "\\item  08\n",
       "\\item  08\n",
       "\\item  08\n",
       "\\item  08\n",
       "\\item  09\n",
       "\\item  09\n",
       "\\item  09\n",
       "\\item  09\n",
       "\\item  10\n",
       "\\item  10\n",
       "\\item  10\n",
       "\\item  10\n",
       "\\item  11\n",
       "\\item  11\n",
       "\\item  11\n",
       "\\item  11\n",
       "\\item  12\n",
       "\\item  12\n",
       "\\item  12\n",
       "\\item  12\n",
       "\\item  13\n",
       "\\item  13\n",
       "\\item  13\n",
       "\\item  13\n",
       "\\item  14\n",
       "\\item  14\n",
       "\\item  14\n",
       "\\item  14\n",
       "\\item  15\n",
       "\\item  15\n",
       "\\item  15\n",
       "\\item  15\n",
       "\\item  16\n",
       "\\item  16\n",
       "\\item  16\n",
       "\\item  16\n",
       "\\item  17\n",
       "\\item  17\n",
       "\\item  17\n",
       "\\item  17\n",
       "\\item  18\n",
       "\\item  18\n",
       "\\item  18\n",
       "\\item  18\n",
       "\\item  19\n",
       "\\item  19\n",
       "\\item  19\n",
       "\\item  19\n",
       "\\item  20\n",
       "\\item  20\n",
       "\\item \n",
       "\\item \n",
       "\\item \n",
       "\\item \n",
       "\\item \n",
       "\\item \n",
       "\\item \n",
       "\\item \n",
       "\\item \n",
       "\\item \n",
       "\\item \n",
       "\\item \n",
       "\\item \n",
       "\\item \n",
       "\\item \n",
       "\\item \n",
       "\\item \n",
       "\\item \n",
       "\\item \n",
       "\\item \n",
       "\\item \n",
       "\\item \n",
       "\\item \n",
       "\\item \n",
       "\\item \n",
       "\\item \n",
       "\\item \n",
       "\\item \n",
       "\\item \n",
       "\\item \n",
       "\\item \n",
       "\\item \n",
       "\\item \n",
       "\\item \n",
       "\\item \n",
       "\\item \n",
       "\\item \n",
       "\\item \n",
       "\\item \n",
       "\\item \n",
       "\\item \n",
       "\\item \n",
       "\\item \n",
       "\\item \n",
       "\\item \n",
       "\\item \n",
       "\\item \n",
       "\\item \n",
       "\\item \n",
       "\\item \n",
       "\\item \n",
       "\\item \n",
       "\\item \n",
       "\\item \n",
       "\\item \n",
       "\\item \n",
       "\\item \n",
       "\\item \n",
       "\\item \n",
       "\\item \n",
       "\\item \n",
       "\\item \n",
       "\\item \n",
       "\\item \n",
       "\\item \n",
       "\\item \n",
       "\\item \n",
       "\\item \n",
       "\\item \n",
       "\\item \n",
       "\\item \n",
       "\\item \n",
       "\\item \n",
       "\\item \n",
       "\\item \n",
       "\\item \n",
       "\\item \n",
       "\\item \n",
       "\\item \n",
       "\\item \n",
       "\\end{enumerate*}\n",
       "\n",
       "\\emph{Levels}: \\begin{enumerate*}\n",
       "\\item ''\n",
       "\\item ' 00'\n",
       "\\item ' 01'\n",
       "\\item ' 02'\n",
       "\\item ' 03'\n",
       "\\item ' 04'\n",
       "\\item ' 05'\n",
       "\\item ' 06'\n",
       "\\item ' 07'\n",
       "\\item ' 08'\n",
       "\\item ' 09'\n",
       "\\item ' 10'\n",
       "\\item ' 11'\n",
       "\\item ' 12'\n",
       "\\item ' 13'\n",
       "\\item ' 14'\n",
       "\\item ' 15'\n",
       "\\item ' 16'\n",
       "\\item ' 17'\n",
       "\\item ' 18'\n",
       "\\item ' 19'\n",
       "\\item ' 20'\n",
       "\\item ' 98'\n",
       "\\item ' 99'\n",
       "\\end{enumerate*}\n"
      ],
      "text/markdown": [
       "1.  98\n",
       "2.  98\n",
       "3.  98\n",
       "4.  98\n",
       "5.  99\n",
       "6.  99\n",
       "7.  99\n",
       "8.  99\n",
       "9.  00\n",
       "10.  00\n",
       "11.  00\n",
       "12.  00\n",
       "13.  01\n",
       "14.  01\n",
       "15.  01\n",
       "16.  01\n",
       "17.  02\n",
       "18.  02\n",
       "19.  02\n",
       "20.  02\n",
       "21.  03\n",
       "22.  03\n",
       "23.  03\n",
       "24.  03\n",
       "25.  04\n",
       "26.  04\n",
       "27.  04\n",
       "28.  04\n",
       "29.  05\n",
       "30.  05\n",
       "31.  05\n",
       "32.  05\n",
       "33.  06\n",
       "34.  06\n",
       "35.  06\n",
       "36.  06\n",
       "37.  07\n",
       "38.  07\n",
       "39.  07\n",
       "40.  07\n",
       "41.  08\n",
       "42.  08\n",
       "43.  08\n",
       "44.  08\n",
       "45.  09\n",
       "46.  09\n",
       "47.  09\n",
       "48.  09\n",
       "49.  10\n",
       "50.  10\n",
       "51.  10\n",
       "52.  10\n",
       "53.  11\n",
       "54.  11\n",
       "55.  11\n",
       "56.  11\n",
       "57.  12\n",
       "58.  12\n",
       "59.  12\n",
       "60.  12\n",
       "61.  13\n",
       "62.  13\n",
       "63.  13\n",
       "64.  13\n",
       "65.  14\n",
       "66.  14\n",
       "67.  14\n",
       "68.  14\n",
       "69.  15\n",
       "70.  15\n",
       "71.  15\n",
       "72.  15\n",
       "73.  16\n",
       "74.  16\n",
       "75.  16\n",
       "76.  16\n",
       "77.  17\n",
       "78.  17\n",
       "79.  17\n",
       "80.  17\n",
       "81.  18\n",
       "82.  18\n",
       "83.  18\n",
       "84.  18\n",
       "85.  19\n",
       "86.  19\n",
       "87.  19\n",
       "88.  19\n",
       "89.  20\n",
       "90.  20\n",
       "91. \n",
       "92. \n",
       "93. \n",
       "94. \n",
       "95. \n",
       "96. \n",
       "97. \n",
       "98. \n",
       "99. \n",
       "100. \n",
       "101. \n",
       "102. \n",
       "103. \n",
       "104. \n",
       "105. \n",
       "106. \n",
       "107. \n",
       "108. \n",
       "109. \n",
       "110. \n",
       "111. \n",
       "112. \n",
       "113. \n",
       "114. \n",
       "115. \n",
       "116. \n",
       "117. \n",
       "118. \n",
       "119. \n",
       "120. \n",
       "121. \n",
       "122. \n",
       "123. \n",
       "124. \n",
       "125. \n",
       "126. \n",
       "127. \n",
       "128. \n",
       "129. \n",
       "130. \n",
       "131. \n",
       "132. \n",
       "133. \n",
       "134. \n",
       "135. \n",
       "136. \n",
       "137. \n",
       "138. \n",
       "139. \n",
       "140. \n",
       "141. \n",
       "142. \n",
       "143. \n",
       "144. \n",
       "145. \n",
       "146. \n",
       "147. \n",
       "148. \n",
       "149. \n",
       "150. \n",
       "151. \n",
       "152. \n",
       "153. \n",
       "154. \n",
       "155. \n",
       "156. \n",
       "157. \n",
       "158. \n",
       "159. \n",
       "160. \n",
       "161. \n",
       "162. \n",
       "163. \n",
       "164. \n",
       "165. \n",
       "166. \n",
       "167. \n",
       "168. \n",
       "169. \n",
       "170. \n",
       "\n",
       "\n",
       "\n",
       "**Levels**: 1. ''\n",
       "2. ' 00'\n",
       "3. ' 01'\n",
       "4. ' 02'\n",
       "5. ' 03'\n",
       "6. ' 04'\n",
       "7. ' 05'\n",
       "8. ' 06'\n",
       "9. ' 07'\n",
       "10. ' 08'\n",
       "11. ' 09'\n",
       "12. ' 10'\n",
       "13. ' 11'\n",
       "14. ' 12'\n",
       "15. ' 13'\n",
       "16. ' 14'\n",
       "17. ' 15'\n",
       "18. ' 16'\n",
       "19. ' 17'\n",
       "20. ' 18'\n",
       "21. ' 19'\n",
       "22. ' 20'\n",
       "23. ' 98'\n",
       "24. ' 99'\n",
       "\n",
       "\n"
      ],
      "text/plain": [
       "  [1]  98  98  98  98  99  99  99  99  00  00  00  00  01  01  01  01  02  02\n",
       " [19]  02  02  03  03  03  03  04  04  04  04  05  05  05  05  06  06  06  06\n",
       " [37]  07  07  07  07  08  08  08  08  09  09  09  09  10  10  10  10  11  11\n",
       " [55]  11  11  12  12  12  12  13  13  13  13  14  14  14  14  15  15  15  15\n",
       " [73]  16  16  16  16  17  17  17  17  18  18  18  18  19  19  19  19  20  20\n",
       " [91]                                                                        \n",
       "[109]                                                                        \n",
       "[127]                                                                        \n",
       "[145]                                                                        \n",
       "[163]                                \n",
       "24 Levels:   00  01  02  03  04  05  06  07  08  09  10  11  12  13  14 ...  99"
      ]
     },
     "metadata": {},
     "output_type": "display_data"
    }
   ],
   "source": [
    "# Now, I would like to show the unemployment rate during the last 20 years in Ireland and Dublin per year.\n",
    "\n",
    "# First step: I clean the variable \"Quarter\", I convert to factor and I remove all elements that dont allow me to group by\n",
    "# this variable. I have remove them element by element as it is the only way I have been able to do it.\n",
    "\n",
    "new_Quarter <- as.factor(gsub(\"Q1\",\"\",Unemployment$Quarter))\n",
    "new_Quarter2 <- as.factor(gsub(\"Q2\",\"\",new_Quarter))\n",
    "new_Quarter3 <- as.factor(gsub(\"Q3\",\"\",new_Quarter2))\n",
    "New_quarter <- as.factor(gsub(\"Q4\",\"\",new_Quarter3))\n",
    "\n",
    "# Lets check the result:\n",
    "\n",
    "New_quarter"
   ]
  },
  {
   "cell_type": "code",
   "execution_count": 107,
   "metadata": {},
   "outputs": [
    {
     "data": {
      "text/html": [
       "<table>\n",
       "<caption>A data.frame: 3 × 2</caption>\n",
       "<thead>\n",
       "\t<tr><th></th><th scope=col>New_quarter</th><th scope=col>National_rate_num</th></tr>\n",
       "\t<tr><th></th><th scope=col>&lt;fct&gt;</th><th scope=col>&lt;dbl&gt;</th></tr>\n",
       "</thead>\n",
       "<tbody>\n",
       "\t<tr><th scope=row>1</th><td> 98</td><td>9.0</td></tr>\n",
       "\t<tr><th scope=row>2</th><td> 98</td><td>8.0</td></tr>\n",
       "\t<tr><th scope=row>3</th><td> 98</td><td>7.4</td></tr>\n",
       "</tbody>\n",
       "</table>\n"
      ],
      "text/latex": [
       "A data.frame: 3 × 2\n",
       "\\begin{tabular}{r|ll}\n",
       "  & New\\_quarter & National\\_rate\\_num\\\\\n",
       "  & <fct> & <dbl>\\\\\n",
       "\\hline\n",
       "\t1 &  98 & 9.0\\\\\n",
       "\t2 &  98 & 8.0\\\\\n",
       "\t3 &  98 & 7.4\\\\\n",
       "\\end{tabular}\n"
      ],
      "text/markdown": [
       "\n",
       "A data.frame: 3 × 2\n",
       "\n",
       "| <!--/--> | New_quarter &lt;fct&gt; | National_rate_num &lt;dbl&gt; |\n",
       "|---|---|---|\n",
       "| 1 |  98 | 9.0 |\n",
       "| 2 |  98 | 8.0 |\n",
       "| 3 |  98 | 7.4 |\n",
       "\n"
      ],
      "text/plain": [
       "  New_quarter National_rate_num\n",
       "1  98         9.0              \n",
       "2  98         8.0              \n",
       "3  98         7.4              "
      ]
     },
     "metadata": {},
     "output_type": "display_data"
    }
   ],
   "source": [
    "# Here I create a new dataframe calles \"new_data\" with the new variables just created:\n",
    "\n",
    "new_data <- data.frame(New_quarter, National_rate_num) \n",
    "\n",
    "#Les`t check it:\n",
    "head(new_data, 3)"
   ]
  },
  {
   "cell_type": "code",
   "execution_count": 108,
   "metadata": {},
   "outputs": [],
   "source": [
    "# Now I call the dplyr package to kepp manipulating data and use function group_by\n",
    "\n",
    "library(dplyr)"
   ]
  },
  {
   "cell_type": "code",
   "execution_count": 109,
   "metadata": {},
   "outputs": [
    {
     "name": "stderr",
     "output_type": "stream",
     "text": [
      "`summarise()` ungrouping output (override with `.groups` argument)\n",
      "\n"
     ]
    }
   ],
   "source": [
    "# Here I use the fuction group_by to group by year and I calculate the mean of al quarters of each year, and I do it in a new \n",
    "# variable called \"new_data2\"\n",
    "\n",
    "new_data2 <- group_by(new_data, New_quarter)\n",
    "\n",
    "#then I use the fuctions mean and round to alculate these  means and round them , putting all in the variable \"asis\"\n",
    "# and Using the fuction summarise:\n",
    "\n",
    "asis <- summarise(new_data2, nacional = round(mean(National_rate_num)))"
   ]
  },
  {
   "cell_type": "code",
   "execution_count": 110,
   "metadata": {},
   "outputs": [
    {
     "data": {
      "text/html": [
       "<table>\n",
       "<caption>A tibble: 2 × 2</caption>\n",
       "<thead>\n",
       "\t<tr><th scope=col>New_quarter</th><th scope=col>nacional</th></tr>\n",
       "\t<tr><th scope=col>&lt;fct&gt;</th><th scope=col>&lt;dbl&gt;</th></tr>\n",
       "</thead>\n",
       "<tbody>\n",
       "\t<tr><td> 00</td><td>4</td></tr>\n",
       "\t<tr><td> 01</td><td>4</td></tr>\n",
       "</tbody>\n",
       "</table>\n"
      ],
      "text/latex": [
       "A tibble: 2 × 2\n",
       "\\begin{tabular}{ll}\n",
       " New\\_quarter & nacional\\\\\n",
       " <fct> & <dbl>\\\\\n",
       "\\hline\n",
       "\t  00 & 4\\\\\n",
       "\t  01 & 4\\\\\n",
       "\\end{tabular}\n"
      ],
      "text/markdown": [
       "\n",
       "A tibble: 2 × 2\n",
       "\n",
       "| New_quarter &lt;fct&gt; | nacional &lt;dbl&gt; |\n",
       "|---|---|\n",
       "|  00 | 4 |\n",
       "|  01 | 4 |\n",
       "\n"
      ],
      "text/plain": [
       "  New_quarter nacional\n",
       "1  00         4       \n",
       "2  01         4       "
      ]
     },
     "metadata": {},
     "output_type": "display_data"
    }
   ],
   "source": [
    "#Here omitting the nas:\n",
    "\n",
    "asis_nona <- na.omit(asis)\n",
    "\n",
    "# Hee geting just from 2000 to 2020:\n",
    "\n",
    "nueva_tabla <- asis_nona[1:21,]\n",
    "\n",
    "# Lets check it: \n",
    "\n",
    "head(nueva_tabla,2)"
   ]
  },
  {
   "cell_type": "code",
   "execution_count": 111,
   "metadata": {},
   "outputs": [],
   "source": [
    "#Here calling the ggplot2 package to visualiza the data:\n",
    "\n",
    "library(ggplot2)"
   ]
  },
  {
   "cell_type": "code",
   "execution_count": 112,
   "metadata": {},
   "outputs": [
    {
     "data": {
      "image/png": "[encoded data removed]",
      "text/plain": [
       "plot without title"
      ]
     },
     "metadata": {
      "image/png": {
       "height": 420,
       "width": 420
      }
     },
     "output_type": "display_data"
    }
   ],
   "source": [
    "\n",
    "#Here creating the the bar plot of unemployment rate in Ireland from 2000 to 2020\n",
    "\n",
    "National_rate_bar <- ggplot(nueva_tabla, aes(x=New_quarter, y=nacional, fill=nacional))+ geom_bar(stat = \"identity\") +\n",
    "geom_text(aes(label=nacional), vjust=1.5, colour=\"black\") # adding the number on the top of each bar\n",
    "\n",
    "# Let´s see the result:\n",
    "\n",
    "National_rate_bar"
   ]
  },
  {
   "cell_type": "code",
   "execution_count": 113,
   "metadata": {},
   "outputs": [
    {
     "name": "stderr",
     "output_type": "stream",
     "text": [
      "`summarise()` ungrouping output (override with `.groups` argument)\n",
      "\n"
     ]
    },
    {
     "data": {
      "image/png": "[encoded data removed]",
      "text/plain": [
       "plot without title"
      ]
     },
     "metadata": {
      "image/png": {
       "height": 420,
       "width": 420
      }
     },
     "output_type": "display_data"
    }
   ],
   "source": [
    "\n",
    "# Now I am going to do the same poccess with the Dublin`s nemployment rate from the same perios (2000-2020) \n",
    "\n",
    "new_Dublin <- data.frame(New_quarter, Dublin_rate_num) \n",
    "\n",
    "\n",
    "new_Dublin2 <- group_by(new_Dublin, New_quarter)\n",
    "new_Dublin3 <- summarise(new_Dublin2, Dublin = round(mean(Dublin_rate_num)))\n",
    "\n",
    "# omitting nas and picking from 2000-2020\n",
    "new_Dublin3_nona <- na.omit(new_Dublin3)\n",
    "nueva_tabla2 <- new_Dublin3_nona[1:21,]\n",
    "\n",
    "# Creating the plot:\n",
    "\n",
    "Dublin_rate_bar <- ggplot(nueva_tabla2, aes(x=New_quarter, y=Dublin, fill=Dublin))+ geom_bar(stat = \"identity\") +\n",
    "geom_text(aes(label=Dublin), vjust=1.5, colour=\"black\")\n",
    "\n",
    "# Let´s see the result:\n",
    "\n",
    "Dublin_rate_bar"
   ]
  },
  {
   "cell_type": "code",
   "execution_count": 114,
   "metadata": {},
   "outputs": [
    {
     "data": {
      "text/html": [
       "<table>\n",
       "<caption>A data.frame: 3 × 2</caption>\n",
       "<thead>\n",
       "\t<tr><th></th><th scope=col>New_quarter</th><th scope=col>Active</th></tr>\n",
       "\t<tr><th></th><th scope=col>&lt;fct&gt;</th><th scope=col>&lt;dbl&gt;</th></tr>\n",
       "</thead>\n",
       "<tbody>\n",
       "\t<tr><th scope=row>1</th><td> 98</td><td>540.0</td></tr>\n",
       "\t<tr><th scope=row>2</th><td> 98</td><td>538.9</td></tr>\n",
       "\t<tr><th scope=row>3</th><td> 98</td><td>545.2</td></tr>\n",
       "</tbody>\n",
       "</table>\n"
      ],
      "text/latex": [
       "A data.frame: 3 × 2\n",
       "\\begin{tabular}{r|ll}\n",
       "  & New\\_quarter & Active\\\\\n",
       "  & <fct> & <dbl>\\\\\n",
       "\\hline\n",
       "\t1 &  98 & 540.0\\\\\n",
       "\t2 &  98 & 538.9\\\\\n",
       "\t3 &  98 & 545.2\\\\\n",
       "\\end{tabular}\n"
      ],
      "text/markdown": [
       "\n",
       "A data.frame: 3 × 2\n",
       "\n",
       "| <!--/--> | New_quarter &lt;fct&gt; | Active &lt;dbl&gt; |\n",
       "|---|---|---|\n",
       "| 1 |  98 | 540.0 |\n",
       "| 2 |  98 | 538.9 |\n",
       "| 3 |  98 | 545.2 |\n",
       "\n"
      ],
      "text/plain": [
       "  New_quarter Active\n",
       "1  98         540.0 \n",
       "2  98         538.9 \n",
       "3  98         545.2 "
      ]
     },
     "metadata": {},
     "output_type": "display_data"
    }
   ],
   "source": [
    "# Now for instance, let´s visualize the \"Economically Active Population\" in Dublin in the las 20 years. \n",
    "# Thr Economically Active Population is the sum of the unemplyed and employed population.\n",
    "# So, the first step is calculate that figures:\n",
    "\n",
    "Active <- Unemployment$Dublin_unemployed + Unemployment$Dublin__employed\n",
    "\n",
    "# Now, ceate a new datafame (using the variable New_quarter I created befoe):\n",
    "\n",
    "Active_Population <- data.frame(New_quarter, Active)\n",
    "\n",
    "# Omitting nas:\n",
    "\n",
    "Active_Population_nona <- na.omit(Active_Population)\n",
    "\n",
    "# Let´s check:\n",
    "\n",
    "head(Active_Population_nona,3)"
   ]
  },
  {
   "cell_type": "code",
   "execution_count": 115,
   "metadata": {},
   "outputs": [
    {
     "name": "stderr",
     "output_type": "stream",
     "text": [
      "`summarise()` ungrouping output (override with `.groups` argument)\n",
      "\n"
     ]
    }
   ],
   "source": [
    "# Now I group by year:\n",
    "\n",
    "Active_Population_nona_group <- group_by(Active_Population_nona, New_quarter)\n",
    "\n",
    "#then calculate these  means and round them , putting all in the variable \"Active_Population_final\"\n",
    "# and Using the fuction summarise:\n",
    "\n",
    "Active_Population_final <- summarise(Active_Population_nona_group, number_of_people = round(mean(Active)))"
   ]
  },
  {
   "cell_type": "code",
   "execution_count": 116,
   "metadata": {},
   "outputs": [
    {
     "data": {
      "text/html": [
       "<table>\n",
       "<caption>A tibble: 2 × 2</caption>\n",
       "<thead>\n",
       "\t<tr><th scope=col>Year</th><th scope=col>number_of_people</th></tr>\n",
       "\t<tr><th scope=col>&lt;fct&gt;</th><th scope=col>&lt;dbl&gt;</th></tr>\n",
       "</thead>\n",
       "<tbody>\n",
       "\t<tr><td> 00</td><td>574</td></tr>\n",
       "\t<tr><td> 01</td><td>584</td></tr>\n",
       "</tbody>\n",
       "</table>\n"
      ],
      "text/latex": [
       "A tibble: 2 × 2\n",
       "\\begin{tabular}{ll}\n",
       " Year & number\\_of\\_people\\\\\n",
       " <fct> & <dbl>\\\\\n",
       "\\hline\n",
       "\t  00 & 574\\\\\n",
       "\t  01 & 584\\\\\n",
       "\\end{tabular}\n"
      ],
      "text/markdown": [
       "\n",
       "A tibble: 2 × 2\n",
       "\n",
       "| Year &lt;fct&gt; | number_of_people &lt;dbl&gt; |\n",
       "|---|---|\n",
       "|  00 | 574 |\n",
       "|  01 | 584 |\n",
       "\n"
      ],
      "text/plain": [
       "  Year number_of_people\n",
       "1  00  574             \n",
       "2  01  584             "
      ]
     },
     "metadata": {},
     "output_type": "display_data"
    }
   ],
   "source": [
    "# Changing th column name:\n",
    "\n",
    "names(Active_Population_final)[names(Active_Population_final) == 'New_quarter'] <- 'Year'\n",
    "\n",
    "# Checking:\n",
    "\n",
    "head(Active_Population_final,2)"
   ]
  },
  {
   "cell_type": "code",
   "execution_count": 117,
   "metadata": {},
   "outputs": [],
   "source": [
    "# Now, eleting the years from 2000 to 2020:\n",
    "\n",
    "Dublin_Active_Population <- Active_Population_final[1:21,]"
   ]
  },
  {
   "cell_type": "code",
   "execution_count": 118,
   "metadata": {},
   "outputs": [
    {
     "name": "stderr",
     "output_type": "stream",
     "text": [
      "geom_path: Each group consists of only one observation. Do you need to adjust\n",
      "the group aesthetic?\n",
      "\n"
     ]
    },
    {
     "data": {
      "image/png": "[encoded data removed]",
      "text/plain": [
       "plot without title"
      ]
     },
     "metadata": {
      "image/png": {
       "height": 420,
       "width": 420
      }
     },
     "output_type": "display_data"
    }
   ],
   "source": [
    "# Creating the graph to visualize the number of Economically Active Population\" in Dublin in the las 20 years:\n",
    "\n",
    "ggplot(Dublin_Active_Population, aes(Year, number_of_people)) + geom_line(colour=\"red\")  + \n",
    "  geom_point( size=6, shape=21, fill=\"blue\", colour=\"red\") + # I pick shape 21 to have circles and fill them\n",
    "  theme_minimal()"
   ]
  },
  {
   "cell_type": "code",
   "execution_count": 119,
   "metadata": {},
   "outputs": [],
   "source": [
    "# The result above reflects an increasing number of active population from 2000 until the financial crisis(2007), then a drop\n",
    "# of this active population duting for 4 years (2008-2012)and a sustained growth again until this year. The numbers "
   ]
  },
  {
   "cell_type": "code",
   "execution_count": 120,
   "metadata": {},
   "outputs": [
    {
     "data": {
      "text/html": [
       "<table>\n",
       "<caption>A data.frame: 3 × 2</caption>\n",
       "<thead>\n",
       "\t<tr><th></th><th scope=col>Year</th><th scope=col>number_of_people</th></tr>\n",
       "\t<tr><th></th><th scope=col>&lt;fct&gt;</th><th scope=col>&lt;dbl&gt;</th></tr>\n",
       "</thead>\n",
       "<tbody>\n",
       "\t<tr><th scope=row>9</th><td> 00</td><td>565.7</td></tr>\n",
       "\t<tr><th scope=row>10</th><td> 00</td><td>572.3</td></tr>\n",
       "\t<tr><th scope=row>11</th><td> 00</td><td>580.2</td></tr>\n",
       "</tbody>\n",
       "</table>\n"
      ],
      "text/latex": [
       "A data.frame: 3 × 2\n",
       "\\begin{tabular}{r|ll}\n",
       "  & Year & number\\_of\\_people\\\\\n",
       "  & <fct> & <dbl>\\\\\n",
       "\\hline\n",
       "\t9 &  00 & 565.7\\\\\n",
       "\t10 &  00 & 572.3\\\\\n",
       "\t11 &  00 & 580.2\\\\\n",
       "\\end{tabular}\n"
      ],
      "text/markdown": [
       "\n",
       "A data.frame: 3 × 2\n",
       "\n",
       "| <!--/--> | Year &lt;fct&gt; | number_of_people &lt;dbl&gt; |\n",
       "|---|---|---|\n",
       "| 9 |  00 | 565.7 |\n",
       "| 10 |  00 | 572.3 |\n",
       "| 11 |  00 | 580.2 |\n",
       "\n"
      ],
      "text/plain": [
       "   Year number_of_people\n",
       "9   00  565.7           \n",
       "10  00  572.3           \n",
       "11  00  580.2           "
      ]
     },
     "metadata": {},
     "output_type": "display_data"
    }
   ],
   "source": [
    "Active_adjust <- Active_Population_nona[9:90,]\n",
    "\n",
    "names(Active_adjust)[names(Active_adjust) == 'New_quarter'] <- 'Year'\n",
    "names(Active_adjust)[names(Active_adjust) == 'Active'] <- 'number_of_people'\n",
    "\n",
    "head(Active_adjust,3)"
   ]
  },
  {
   "cell_type": "code",
   "execution_count": 121,
   "metadata": {},
   "outputs": [
    {
     "data": {
      "image/png": "[encoded data removed]",
      "text/plain": [
       "plot without title"
      ]
     },
     "metadata": {
      "image/png": {
       "height": 420,
       "width": 420
      }
     },
     "output_type": "display_data"
    }
   ],
   "source": [
    "ggplot(Active_adjust, aes(Year, number_of_people)) + geom_line(colour=\"red\")  + \n",
    "  geom_point( size=2, shape=21, fill=\"white\", colour=\"red\") + \n",
    "  theme_minimal()"
   ]
  },
  {
   "cell_type": "code",
   "execution_count": null,
   "metadata": {},
   "outputs": [],
   "source": []
  }
 ],
 "metadata": {
  "kernelspec": {
   "display_name": "R",
   "language": "R",
   "name": "ir"
  },
  "language_info": {
   "codemirror_mode": "r",
   "file_extension": ".r",
   "mimetype": "text/x-r-source",
   "name": "R",
   "pygments_lexer": "r",
   "version": "4.0.2"
  }
 },
 "nbformat": 4,
 "nbformat_minor": 4
}
